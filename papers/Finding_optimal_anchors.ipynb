{
 "cells": [
  {
   "cell_type": "markdown",
   "id": "32e55bdc",
   "metadata": {},
   "source": [
    "what anchors to use when training a deep learning model. If we often have N anchors per location with different sizes and aspect ratios? How do we tune these parameters?\n",
    "\n",
    "In RetinaNet, we use 3 scales (4, 8, 16) and 3 ratios (2, 2^0.5, 2^1.5) to generate anchors at a particular stride. However we are not sure if these are the optimal values for your dataset. \n",
    "\n",
    "Ideally the way we check this is\n",
    "- Generate anchors \n",
    "- calculate iou btw gt and anchors. if a gt has best iou>0.25, then it is a pos gt else it is neg gt.\n",
    "- calculate the total recall based on this. \n",
    "- if recall is more than 98%, ur anchor design is good else we need to select a different set of values\n",
    "\n",
    "## Resources \n",
    "- https://github.com/ultralytics/yolov5/issues/10201\n",
    "- https://github.com/ultralytics/yolov5/blob/master/utils/autoanchor.py\n",
    "-[Torchvision RetinaNet](https://pytorch.org/vision/main/_modules/torchvision/models/detection/retinanet.html#RetinaNet_ResNet50_FPN_Weights)"
   ]
  },
  {
   "cell_type": "code",
   "execution_count": 6,
   "id": "747ff9d6",
   "metadata": {},
   "outputs": [],
   "source": [
    "strides = [32, 64, 128, 256, 512]\n",
    "anchor_sizes = tuple((x, int(x * 2 ** (1.0 / 3)), int(x * 2 ** (2.0 / 3))) for x in strides)\n",
    "aspect_ratios = ((0.5, 1.0, 2.0),) * len(anchor_sizes)"
   ]
  },
  {
   "cell_type": "code",
   "execution_count": 7,
   "id": "ea7e5c95",
   "metadata": {},
   "outputs": [
    {
     "data": {
      "text/plain": [
       "((32, 40, 50),\n",
       " (64, 80, 101),\n",
       " (128, 161, 203),\n",
       " (256, 322, 406),\n",
       " (512, 645, 812))"
      ]
     },
     "execution_count": 7,
     "metadata": {},
     "output_type": "execute_result"
    }
   ],
   "source": [
    "anchor_sizes"
   ]
  },
  {
   "cell_type": "code",
   "execution_count": 8,
   "id": "f6c96af7",
   "metadata": {},
   "outputs": [
    {
     "data": {
      "text/plain": [
       "((0.5, 1.0, 2.0),\n",
       " (0.5, 1.0, 2.0),\n",
       " (0.5, 1.0, 2.0),\n",
       " (0.5, 1.0, 2.0),\n",
       " (0.5, 1.0, 2.0))"
      ]
     },
     "execution_count": 8,
     "metadata": {},
     "output_type": "execute_result"
    }
   ],
   "source": [
    "aspect_ratios"
   ]
  },
  {
   "cell_type": "code",
   "execution_count": 9,
   "id": "084b67c1",
   "metadata": {},
   "outputs": [
    {
     "data": {
      "text/plain": [
       "[9, 9, 9, 9, 9]"
      ]
     },
     "execution_count": 9,
     "metadata": {},
     "output_type": "execute_result"
    }
   ],
   "source": [
    "[len(s) * len(a) for s, a in zip(anchor_sizes, aspect_ratios)]"
   ]
  },
  {
   "cell_type": "code",
   "execution_count": null,
   "id": "e805eff6",
   "metadata": {},
   "outputs": [],
   "source": []
  }
 ],
 "metadata": {
  "kernelspec": {
   "display_name": "Python 3 (ipykernel)",
   "language": "python",
   "name": "python3"
  },
  "language_info": {
   "codemirror_mode": {
    "name": "ipython",
    "version": 3
   },
   "file_extension": ".py",
   "mimetype": "text/x-python",
   "name": "python",
   "nbconvert_exporter": "python",
   "pygments_lexer": "ipython3",
   "version": "3.9.15"
  }
 },
 "nbformat": 4,
 "nbformat_minor": 5
}
