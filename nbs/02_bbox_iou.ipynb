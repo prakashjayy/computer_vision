{
 "cells": [
  {
   "cell_type": "code",
   "execution_count": null,
   "id": "212a1cf0",
   "metadata": {},
   "outputs": [],
   "source": [
    "#| default_exp bbox_iou"
   ]
  },
  {
   "cell_type": "markdown",
   "id": "5459c4ce",
   "metadata": {},
   "source": [
    "We will implement different types of IoUs and understand the intution behind them. IoU stands for intersection over union.\n",
    "\n",
    "- IOU - Intersection over union \n",
    "- GIOU.- generalized IOU\n",
    "- DIOU - Distance IOU\n",
    "- CIOU - Complete IOU. "
   ]
  },
  {
   "cell_type": "code",
   "execution_count": null,
   "id": "e1e5bba7",
   "metadata": {},
   "outputs": [],
   "source": [
    "#| export \n",
    "import numpy as np \n",
    "import torch\n",
    "from typing import Union"
   ]
  },
  {
   "cell_type": "code",
   "execution_count": null,
   "id": "ef4d8794",
   "metadata": {},
   "outputs": [],
   "source": [
    "import torchvision\n",
    "import fastcore.all as fc"
   ]
  },
  {
   "cell_type": "code",
   "execution_count": null,
   "id": "80a861b7",
   "metadata": {},
   "outputs": [],
   "source": [
    "#| export \n",
    "def bbox_dim(bbox: Union[np.ndarray, torch.Tensor]):\n",
    "    \"\"\"bbox: N x [4/6]\"\"\"\n",
    "    if bbox.shape[1] == 6: return 3\n",
    "    if bbox.shape[1] == 4: return 2\n",
    "    raise NotImplementedError(\"Only 2D and 3D bboxes are defined\")"
   ]
  },
  {
   "cell_type": "code",
   "execution_count": null,
   "id": "91c1e6f2",
   "metadata": {},
   "outputs": [],
   "source": [
    "fc.eq(bbox_dim(np.ones((4, 6))), 3)\n",
    "fc.eq(bbox_dim(torch.ones((2, 4))), 2)\n",
    "fc.test_fail(bbox_dim, args=dict(bbox=torch.ones((4, 10))))"
   ]
  },
  {
   "cell_type": "code",
   "execution_count": null,
   "id": "62ffddde",
   "metadata": {},
   "outputs": [],
   "source": [
    "#| export \n",
    "COMPUTE_DTYPE = torch.float32\n",
    "EPS = torch.finfo(COMPUTE_DTYPE).eps"
   ]
  },
  {
   "cell_type": "markdown",
   "id": "795ace8d",
   "metadata": {},
   "source": [
    "## IOU (Intersection over union) \n",
    "\n",
    "$$\n",
    "IOU = \\frac{A\\bigcap B}{ A \\bigcup B}\n",
    "$$"
   ]
  },
  {
   "cell_type": "code",
   "execution_count": null,
   "id": "9895c30a",
   "metadata": {},
   "outputs": [
    {
     "data": {
      "text/plain": [
       "(tensor([[ 0.,  0., 10., 10.],\n",
       "         [10., 10., 20., 20.]]),\n",
       " tensor([[ 5.,  5., 15., 15.],\n",
       "         [15., 15., 25., 25.]]))"
      ]
     },
     "execution_count": null,
     "metadata": {},
     "output_type": "execute_result"
    }
   ],
   "source": [
    "b1 = torch.Tensor([[0, 0, 10, 10], [10, 10, 20, 20]])\n",
    "b2 = torch.Tensor([[5, 5, 15, 15], [15, 15, 25, 25]])\n",
    "b1, b2"
   ]
  },
  {
   "cell_type": "markdown",
   "id": "a9f35d1a",
   "metadata": {},
   "source": [
    "> two rectangular bboxes intersection (b1 & b2) will also be a rectangular bbox (b). \n",
    "\n",
    "> so `b of [x1, y1]` is `max(b1[x1,y1], b2[x1, y1])` and `b of [x2, y2]` is `min(b1[x2,y2], b2[x2, y2])`"
   ]
  },
  {
   "cell_type": "code",
   "execution_count": null,
   "id": "d1f50741",
   "metadata": {},
   "outputs": [
    {
     "data": {
      "text/plain": [
       "(tensor([ 0.,  0., 10., 10.]), tensor([ 5.,  5., 15., 15.]))"
      ]
     },
     "execution_count": null,
     "metadata": {},
     "output_type": "execute_result"
    }
   ],
   "source": [
    "b1a = b1[0]\n",
    "b2a = b2[0]\n",
    "b1a, b2a"
   ]
  },
  {
   "cell_type": "code",
   "execution_count": null,
   "id": "09e6b599",
   "metadata": {},
   "outputs": [
    {
     "data": {
      "text/plain": [
       "(tensor([5., 5.]), tensor([10., 10.]))"
      ]
     },
     "execution_count": null,
     "metadata": {},
     "output_type": "execute_result"
    }
   ],
   "source": [
    "x1 = torch.max(b1a[:2], b2a[:2])\n",
    "x2 = torch.min(b1a[2:], b2a[2:])\n",
    "x1, x2"
   ]
  },
  {
   "cell_type": "code",
   "execution_count": null,
   "id": "adeeaa96",
   "metadata": {},
   "outputs": [
    {
     "data": {
      "text/plain": [
       "tensor([5., 5.])"
      ]
     },
     "execution_count": null,
     "metadata": {},
     "output_type": "execute_result"
    }
   ],
   "source": [
    "inter_hw = torch.clamp((x2 - x1), min=0)\n",
    "inter_hw"
   ]
  },
  {
   "cell_type": "code",
   "execution_count": null,
   "id": "909f5d54",
   "metadata": {},
   "outputs": [
    {
     "data": {
      "text/plain": [
       "tensor(25.)"
      ]
     },
     "execution_count": null,
     "metadata": {},
     "output_type": "execute_result"
    }
   ],
   "source": [
    "inter = torch.prod(inter_hw, dim=-1)\n",
    "inter"
   ]
  },
  {
   "cell_type": "markdown",
   "id": "ad7c5190",
   "metadata": {},
   "source": [
    "> calculate the area of b1a, b2a also"
   ]
  },
  {
   "cell_type": "code",
   "execution_count": null,
   "id": "5ff58892",
   "metadata": {},
   "outputs": [
    {
     "data": {
      "text/plain": [
       "(tensor(100.), tensor(100.))"
      ]
     },
     "execution_count": null,
     "metadata": {},
     "output_type": "execute_result"
    }
   ],
   "source": [
    "b1a_area = torch.prod(b1a[2:] - b1a[:2], dim=-1)\n",
    "b2a_area = torch.prod(b2a[2:] - b2a[:2], dim=-1)\n",
    "b1a_area, b2a_area"
   ]
  },
  {
   "cell_type": "code",
   "execution_count": null,
   "id": "e14dd672",
   "metadata": {},
   "outputs": [
    {
     "data": {
      "text/plain": [
       "tensor(0.1429)"
      ]
     },
     "execution_count": null,
     "metadata": {},
     "output_type": "execute_result"
    }
   ],
   "source": [
    "iou = inter/ (b1a_area + b2a_area - inter)\n",
    "iou"
   ]
  },
  {
   "cell_type": "markdown",
   "id": "ab9f5f0d",
   "metadata": {},
   "source": [
    "> when doing over multiple boxes , `b1 [N, 4]` and `b2 [N, 4]` are of same size "
   ]
  },
  {
   "cell_type": "code",
   "execution_count": null,
   "id": "14462a33",
   "metadata": {},
   "outputs": [
    {
     "data": {
      "text/plain": [
       "tensor([[ 0.,  0., 10., 10.],\n",
       "        [10., 10., 20., 20.]])"
      ]
     },
     "execution_count": null,
     "metadata": {},
     "output_type": "execute_result"
    }
   ],
   "source": [
    "b1"
   ]
  },
  {
   "cell_type": "code",
   "execution_count": null,
   "id": "40b87a0a",
   "metadata": {},
   "outputs": [
    {
     "data": {
      "text/plain": [
       "tensor([[ 5.,  5., 15., 15.],\n",
       "        [15., 15., 25., 25.]])"
      ]
     },
     "execution_count": null,
     "metadata": {},
     "output_type": "execute_result"
    }
   ],
   "source": [
    "b2"
   ]
  },
  {
   "cell_type": "code",
   "execution_count": null,
   "id": "6b00c31a",
   "metadata": {},
   "outputs": [
    {
     "data": {
      "text/plain": [
       "(tensor([[ 5.,  5.],\n",
       "         [15., 15.]]),\n",
       " tensor([[10., 10.],\n",
       "         [20., 20.]]))"
      ]
     },
     "execution_count": null,
     "metadata": {},
     "output_type": "execute_result"
    }
   ],
   "source": [
    "x1 = torch.max(b1[:, :2], b2[:, :2])\n",
    "x2 = torch.min(b1[:, 2:], b2[:, 2:])\n",
    "x1, x2"
   ]
  },
  {
   "cell_type": "code",
   "execution_count": null,
   "id": "92aea352",
   "metadata": {},
   "outputs": [
    {
     "data": {
      "text/plain": [
       "tensor([25., 25.])"
      ]
     },
     "execution_count": null,
     "metadata": {},
     "output_type": "execute_result"
    }
   ],
   "source": [
    "inter_hw = torch.clamp((x2 - x1), min=0)\n",
    "inter = torch.prod(inter_hw, dim=-1)\n",
    "inter"
   ]
  },
  {
   "cell_type": "code",
   "execution_count": null,
   "id": "a6c7656c",
   "metadata": {},
   "outputs": [],
   "source": [
    "#| export \n",
    "def intersection_area_pair(b1: torch.Tensor, b2: torch.Tensor, dim: int=2):\n",
    "    x1 = torch.max(b1[:, :dim], b2[:, :dim])\n",
    "    x2 = torch.min(b1[:, dim:], b2[:, dim:])\n",
    "    inter_hw = torch.clamp((x2 - x1), min=0)\n",
    "    inter = torch.prod(inter_hw, dim=-1)\n",
    "    return inter"
   ]
  },
  {
   "cell_type": "code",
   "execution_count": null,
   "id": "62863b6a",
   "metadata": {},
   "outputs": [
    {
     "name": "stdout",
     "output_type": "stream",
     "text": [
      "CPU times: user 1.51 ms, sys: 1.36 ms, total: 2.87 ms\n",
      "Wall time: 1.63 ms\n"
     ]
    },
    {
     "data": {
      "text/plain": [
       "tensor([25., 25.])"
      ]
     },
     "execution_count": null,
     "metadata": {},
     "output_type": "execute_result"
    }
   ],
   "source": [
    "%time intersection_area_pair(b1, b2, 2)"
   ]
  },
  {
   "cell_type": "code",
   "execution_count": null,
   "id": "0f080466",
   "metadata": {},
   "outputs": [
    {
     "data": {
      "text/plain": [
       "tensor([25.])"
      ]
     },
     "execution_count": null,
     "metadata": {},
     "output_type": "execute_result"
    }
   ],
   "source": [
    "b1 = torch.Tensor([[0, 0, 10, 10]])\n",
    "b2 = torch.Tensor([[5, 5, 15, 15]])\n",
    "intersection_area_pair(b1, b2)"
   ]
  },
  {
   "cell_type": "code",
   "execution_count": null,
   "id": "c0ddce65",
   "metadata": {},
   "outputs": [
    {
     "data": {
      "text/plain": [
       "(tensor([100.]), tensor([100.]))"
      ]
     },
     "execution_count": null,
     "metadata": {},
     "output_type": "execute_result"
    }
   ],
   "source": [
    "b1_area = torch.prod(b1[:, 2:] - b1[:, :2], dim=-1)\n",
    "b2_area = torch.prod(b2[:, 2:] - b2[:, :2], dim=-1)\n",
    "b1_area, b2_area"
   ]
  },
  {
   "cell_type": "code",
   "execution_count": null,
   "id": "73cacdfc",
   "metadata": {},
   "outputs": [],
   "source": [
    "#| export \n",
    "def bbox_area(b: torch.Tensor, dim: int=2):\n",
    "    return torch.prod(b[:, dim:] - b[:, :dim], dim=-1)"
   ]
  },
  {
   "cell_type": "code",
   "execution_count": null,
   "id": "d2317d11",
   "metadata": {},
   "outputs": [
    {
     "data": {
      "text/plain": [
       "(tensor([100.]), tensor([100.]))"
      ]
     },
     "execution_count": null,
     "metadata": {},
     "output_type": "execute_result"
    }
   ],
   "source": [
    "b1_area, b2_area = bbox_area(b1), bbox_area(b2)\n",
    "b1_area, b2_area"
   ]
  },
  {
   "cell_type": "code",
   "execution_count": null,
   "id": "13c50d7f",
   "metadata": {},
   "outputs": [
    {
     "data": {
      "text/plain": [
       "tensor([0.1429, 0.1429])"
      ]
     },
     "execution_count": null,
     "metadata": {},
     "output_type": "execute_result"
    }
   ],
   "source": [
    "iou = inter/ (b1_area + b2_area - inter)\n",
    "iou"
   ]
  },
  {
   "cell_type": "code",
   "execution_count": null,
   "id": "7319b0bc",
   "metadata": {},
   "outputs": [],
   "source": [
    "#| export \n",
    "def bbox_pair_iou(b1: torch.Tensor, b2: torch.Tensor):\n",
    "    \"\"\"where b1 and b2 are of the same shape [N, 4/6]\"\"\"\n",
    "    assert b1.shape == b2.shape , \"b1 and b2 are of not the same shape\"\n",
    "    dim = bbox_dim(b1)\n",
    "    inter = intersection_area_pair(b1, b2, dim)\n",
    "    b1_area, b2_area = bbox_area(b1, dim), bbox_area(b2, dim)\n",
    "    union = (b1_area + b2_area - inter)\n",
    "    iou = inter/ (union+EPS)\n",
    "    return iou"
   ]
  },
  {
   "cell_type": "code",
   "execution_count": null,
   "id": "13cc191f",
   "metadata": {},
   "outputs": [
    {
     "name": "stdout",
     "output_type": "stream",
     "text": [
      "CPU times: user 1.66 ms, sys: 938 µs, total: 2.6 ms\n",
      "Wall time: 1.74 ms\n"
     ]
    },
    {
     "data": {
      "text/plain": [
       "tensor([0.1429])"
      ]
     },
     "execution_count": null,
     "metadata": {},
     "output_type": "execute_result"
    }
   ],
   "source": [
    "%time bbox_pair_iou(b1, b2)"
   ]
  },
  {
   "cell_type": "code",
   "execution_count": null,
   "id": "42ee123a",
   "metadata": {},
   "outputs": [
    {
     "data": {
      "text/plain": [
       "(torch.Size([1000, 6]), torch.Size([1000, 6]))"
      ]
     },
     "execution_count": null,
     "metadata": {},
     "output_type": "execute_result"
    }
   ],
   "source": [
    "x = torch.hstack([torch.randint(20, size=(1000, 1)) for _ in range(3)])\n",
    "y = torch.Tensor([[40, 40, 40] for i in range(1000)])\n",
    "xy = torch.hstack([x, y])\n",
    "yx = xy.flipud()\n",
    "xy.shape, yx.shape"
   ]
  },
  {
   "cell_type": "code",
   "execution_count": null,
   "id": "9ee03596",
   "metadata": {},
   "outputs": [
    {
     "name": "stdout",
     "output_type": "stream",
     "text": [
      "CPU times: user 1.74 ms, sys: 1.26 ms, total: 3 ms\n",
      "Wall time: 1.7 ms\n"
     ]
    }
   ],
   "source": [
    "%time iou = bbox_pair_iou(xy, yx)"
   ]
  },
  {
   "cell_type": "code",
   "execution_count": null,
   "id": "466d6425",
   "metadata": {},
   "outputs": [
    {
     "data": {
      "text/plain": [
       "True"
      ]
     },
     "execution_count": null,
     "metadata": {},
     "output_type": "execute_result"
    }
   ],
   "source": [
    "fc.all_equal(bbox_pair_iou(xy, xy), torch.ones(xy.shape))"
   ]
  },
  {
   "cell_type": "markdown",
   "id": "cec23ada",
   "metadata": {},
   "source": [
    "> what if u want the iou of a box in `b1` with every bbox in `b2`. Here is where torch/numpy broadcasting helps us\n",
    "\n",
    "```\n",
    "M, 4 -> [1, M, 4]  \n",
    "\n",
    "N, 4 -> [N, 1, 4]  \n",
    "        ---------\n",
    "        [N, M, 4] \n",
    "```"
   ]
  },
  {
   "cell_type": "code",
   "execution_count": null,
   "id": "b74f09d1",
   "metadata": {},
   "outputs": [
    {
     "data": {
      "text/plain": [
       "(torch.Size([2, 4]), torch.Size([3, 4]))"
      ]
     },
     "execution_count": null,
     "metadata": {},
     "output_type": "execute_result"
    }
   ],
   "source": [
    "b1 = torch.Tensor([[0, 0, 10, 10], [10, 10, 20, 20]])\n",
    "b2 = torch.Tensor([[5, 5, 15, 15], [15, 15, 25, 25], [25, 25, 35, 35]])\n",
    "b1.shape, b2.shape"
   ]
  },
  {
   "cell_type": "code",
   "execution_count": null,
   "id": "00bfa403",
   "metadata": {},
   "outputs": [
    {
     "name": "stdout",
     "output_type": "stream",
     "text": [
      "torch.Size([2, 3, 2]) torch.Size([2, 3, 2])\n"
     ]
    },
    {
     "data": {
      "text/plain": [
       "(tensor([[[ 5.,  5.],\n",
       "          [15., 15.],\n",
       "          [25., 25.]],\n",
       " \n",
       "         [[10., 10.],\n",
       "          [15., 15.],\n",
       "          [25., 25.]]]),\n",
       " tensor([[[10., 10.],\n",
       "          [10., 10.],\n",
       "          [10., 10.]],\n",
       " \n",
       "         [[15., 15.],\n",
       "          [20., 20.],\n",
       "          [20., 20.]]]))"
      ]
     },
     "execution_count": null,
     "metadata": {},
     "output_type": "execute_result"
    }
   ],
   "source": [
    "x1 = torch.max(b1[:, None, :2], b2[ :, :2])\n",
    "x2 = torch.min(b1[:, None, 2:], b2[ :, 2:])\n",
    "print(x1.shape, x2.shape)\n",
    "x1, x2"
   ]
  },
  {
   "cell_type": "code",
   "execution_count": null,
   "id": "f743fb46",
   "metadata": {},
   "outputs": [
    {
     "data": {
      "text/plain": [
       "tensor([[[5., 5.],\n",
       "         [0., 0.],\n",
       "         [0., 0.]],\n",
       "\n",
       "        [[5., 5.],\n",
       "         [5., 5.],\n",
       "         [0., 0.]]])"
      ]
     },
     "execution_count": null,
     "metadata": {},
     "output_type": "execute_result"
    }
   ],
   "source": [
    "inter = torch.clamp(x2-x1, min=0)\n",
    "inter"
   ]
  },
  {
   "cell_type": "code",
   "execution_count": null,
   "id": "910b1c1f",
   "metadata": {},
   "outputs": [
    {
     "data": {
      "text/plain": [
       "(tensor([[25.,  0.,  0.],\n",
       "         [25., 25.,  0.]]),\n",
       " torch.Size([2, 3]))"
      ]
     },
     "execution_count": null,
     "metadata": {},
     "output_type": "execute_result"
    }
   ],
   "source": [
    "inter_area = torch.prod(inter, dim=-1)\n",
    "inter_area, inter_area.shape"
   ]
  },
  {
   "cell_type": "code",
   "execution_count": null,
   "id": "69c4c6fe",
   "metadata": {},
   "outputs": [],
   "source": [
    "#| export \n",
    "def intersection_area(b1: torch.Tensor, b2: torch.Tensor, dim: int=2):\n",
    "    x1 = torch.max(b1[:, None, :dim], b2[:, :dim])\n",
    "    x2 = torch.min(b1[:, None, dim:], b2[:, dim:])\n",
    "    inter = torch.clamp(x2 - x1, min=0)\n",
    "    inter_area = torch.prod(inter, dim=-1)\n",
    "    return inter_area"
   ]
  },
  {
   "cell_type": "code",
   "execution_count": null,
   "id": "79c44ba9",
   "metadata": {},
   "outputs": [
    {
     "name": "stdout",
     "output_type": "stream",
     "text": [
      "CPU times: user 1.28 ms, sys: 791 µs, total: 2.07 ms\n",
      "Wall time: 1.35 ms\n"
     ]
    },
    {
     "data": {
      "text/plain": [
       "tensor([[25.,  0.,  0.],\n",
       "        [25., 25.,  0.]])"
      ]
     },
     "execution_count": null,
     "metadata": {},
     "output_type": "execute_result"
    }
   ],
   "source": [
    "%time intersection_area(b1, b2)"
   ]
  },
  {
   "cell_type": "code",
   "execution_count": null,
   "id": "62725612",
   "metadata": {},
   "outputs": [
    {
     "data": {
      "text/plain": [
       "tensor([[25.]])"
      ]
     },
     "execution_count": null,
     "metadata": {},
     "output_type": "execute_result"
    }
   ],
   "source": [
    "b1x = torch.Tensor([[0, 0, 10, 10]])\n",
    "b2x = torch.Tensor([[5, 5, 15, 15]])\n",
    "intersection_area(b1x, b2x)"
   ]
  },
  {
   "cell_type": "code",
   "execution_count": null,
   "id": "a17f4897",
   "metadata": {},
   "outputs": [
    {
     "data": {
      "text/plain": [
       "(tensor([100., 100., 100.]), tensor([100.]))"
      ]
     },
     "execution_count": null,
     "metadata": {},
     "output_type": "execute_result"
    }
   ],
   "source": [
    "b1_area = torch.prod(b1[:, 2:]- b1[:, :2], dim=1)\n",
    "b1_area = torch.prod(b2[:, 2:]- b2[:, :2], dim=1)\n",
    "b1_area, b2_area"
   ]
  },
  {
   "cell_type": "markdown",
   "id": "0e989e09",
   "metadata": {},
   "source": [
    "> b1_area shape is [3, 1] , b2_area is [2] and 3 need [2, 3]"
   ]
  },
  {
   "cell_type": "code",
   "execution_count": null,
   "id": "1a5ddf43",
   "metadata": {},
   "outputs": [
    {
     "data": {
      "text/plain": [
       "tensor([[175., 200., 200.],\n",
       "        [175., 175., 200.]])"
      ]
     },
     "execution_count": null,
     "metadata": {},
     "output_type": "execute_result"
    }
   ],
   "source": [
    "union = b2_area[:,None] + b1_area - inter_area \n",
    "union"
   ]
  },
  {
   "cell_type": "code",
   "execution_count": null,
   "id": "9aa93ceb",
   "metadata": {},
   "outputs": [
    {
     "data": {
      "text/plain": [
       "tensor([[0.1429, 0.0000, 0.0000],\n",
       "        [0.1429, 0.1429, 0.0000]])"
      ]
     },
     "execution_count": null,
     "metadata": {},
     "output_type": "execute_result"
    }
   ],
   "source": [
    "inter_area/union"
   ]
  },
  {
   "cell_type": "code",
   "execution_count": null,
   "id": "8100f03e",
   "metadata": {},
   "outputs": [],
   "source": [
    "#| export \n",
    "def bbox_iou(b1: torch.Tensor, b2: torch.Tensor):\n",
    "    \"\"\"calculate iou between b1 Nx(4/6) and b2 Mx(4/6)\n",
    "    \"\"\"\n",
    "    dim = bbox_dim(b1)\n",
    "    inter_area = intersection_area(b1, b2, dim)\n",
    "    b1_area, b2_area = bbox_area(b1, dim), bbox_area(b2, dim)\n",
    "    union = b1_area[:, None] + b2_area - inter_area\n",
    "    iou = inter_area / (union+EPS)\n",
    "    return iou.clamp(min=0, max=1)"
   ]
  },
  {
   "cell_type": "code",
   "execution_count": null,
   "id": "6e669510",
   "metadata": {},
   "outputs": [],
   "source": [
    "## Test 2d \n",
    "b1 = torch.Tensor([[0, 0, 10, 10], [10, 10, 20, 20]])\n",
    "b2 = torch.Tensor([[5, 5, 15, 15], [15, 15, 25, 25]])\n",
    "expected_output = torch.Tensor([[0.1429, 0.0], [0.1429, 0.1429]])\n",
    "output = bbox_iou(b1, b2)\n",
    "fc.test_close(expected_output, output, eps=1e-3)\n",
    "fc.test_close(output, torchvision.ops.box_iou(b1, b2), eps=1e-2)"
   ]
  },
  {
   "cell_type": "code",
   "execution_count": null,
   "id": "bc7f59cf",
   "metadata": {},
   "outputs": [
    {
     "name": "stdout",
     "output_type": "stream",
     "text": [
      "40.5 µs ± 3.25 µs per loop (mean ± std. dev. of 7 runs, 100 loops each)\n"
     ]
    }
   ],
   "source": [
    "%timeit -n 100 torchvision.ops.box_iou(b1, b2)"
   ]
  },
  {
   "cell_type": "code",
   "execution_count": null,
   "id": "4e313a78",
   "metadata": {},
   "outputs": [
    {
     "name": "stdout",
     "output_type": "stream",
     "text": [
      "33 µs ± 2.77 µs per loop (mean ± std. dev. of 7 runs, 100 loops each)\n"
     ]
    }
   ],
   "source": [
    "%timeit  -n 100 bbox_iou(b1, b2)"
   ]
  },
  {
   "cell_type": "code",
   "execution_count": null,
   "id": "976e0374",
   "metadata": {},
   "outputs": [
    {
     "data": {
      "text/plain": [
       "tensor([[0.0667, 0.0000],\n",
       "        [0.0667, 0.0667]])"
      ]
     },
     "execution_count": null,
     "metadata": {},
     "output_type": "execute_result"
    }
   ],
   "source": [
    "b1 = torch.Tensor([[0, 0, 0, 10, 10, 10], [10, 10, 10, 20, 20, 20]])\n",
    "b2 = torch.Tensor([[5, 5, 5, 15, 15, 15], [15, 15, 15, 25, 25, 25]])\n",
    "bbox_iou(b1, b2)"
   ]
  },
  {
   "cell_type": "markdown",
   "id": "6204f5bc",
   "metadata": {},
   "source": [
    "## GIOU"
   ]
  },
  {
   "cell_type": "markdown",
   "id": "fc97d083",
   "metadata": {},
   "source": [
    "There is one problem with IoU\n",
    "\n",
    "> when two bboxes doesn't have overlap, iou is always zero irrespective of the distance between them. This makes loss discontinous when IoU is used. \n",
    "\n",
    "Generalized IoU AKA `GIoU` is defined as \n",
    "\n",
    "$$\n",
    "GIoU = IoU - \\frac{(C \\backslash A \\bigcup B)}{C}\n",
    "$$\n",
    "\n",
    "> where C is the closest convex shape which contain both A and B (as shown in the figure below). Here, since A and B are rectangle we will choose C shape also to be rectangle.\n",
    "\n",
    "> The penality term is defined as the ratio between the area occupied by C excluding A and B and divide by the total area occupied by C"
   ]
  },
  {
   "cell_type": "code",
   "execution_count": null,
   "id": "3e432002",
   "metadata": {},
   "outputs": [
    {
     "data": {
      "text/plain": [
       "tensor([[ 5.,  5., 35., 35.],\n",
       "        [40., 40., 80., 80.],\n",
       "        [24., 24., 28., 28.],\n",
       "        [15., 15., 25., 25.],\n",
       "        [10., 10., 30., 30.]])"
      ]
     },
     "execution_count": null,
     "metadata": {},
     "output_type": "execute_result"
    }
   ],
   "source": [
    "xy = torch.Tensor([[10, 10, 30, 30], \n",
    "                   [15, 15, 25, 25], \n",
    "                   [24, 24, 28, 28], \n",
    "                   [40, 40, 80, 80],\n",
    "                   [5, 5, 35, 35]])\n",
    "yx = xy.flipud()\n",
    "yx"
   ]
  },
  {
   "cell_type": "markdown",
   "id": "c827e567",
   "metadata": {},
   "source": [
    "> Closest convex shape"
   ]
  },
  {
   "cell_type": "code",
   "execution_count": null,
   "id": "b9c9cd1d",
   "metadata": {},
   "outputs": [
    {
     "data": {
      "text/plain": [
       "(tensor([[ 5.,  5.],\n",
       "         [15., 15.],\n",
       "         [24., 24.],\n",
       "         [15., 15.],\n",
       "         [ 5.,  5.]]),\n",
       " tensor([[35., 35.],\n",
       "         [80., 80.],\n",
       "         [28., 28.],\n",
       "         [80., 80.],\n",
       "         [35., 35.]]))"
      ]
     },
     "execution_count": null,
     "metadata": {},
     "output_type": "execute_result"
    }
   ],
   "source": [
    "xc = torch.min(xy[:, :2], yx[:, :2])\n",
    "yc = torch.max(xy[:, 2:], yx[:, 2:])\n",
    "xc, yc"
   ]
  },
  {
   "cell_type": "code",
   "execution_count": null,
   "id": "ef73a4bb",
   "metadata": {},
   "outputs": [
    {
     "data": {
      "text/plain": [
       "tensor([ 900., 4225.,   16., 4225.,  900.])"
      ]
     },
     "execution_count": null,
     "metadata": {},
     "output_type": "execute_result"
    }
   ],
   "source": [
    "C = torch.prod(torch.clamp(yc-xc, min=0), dim=-1)\n",
    "C"
   ]
  },
  {
   "cell_type": "code",
   "execution_count": null,
   "id": "ee761ada",
   "metadata": {},
   "outputs": [],
   "source": [
    "#| export \n",
    "def min_enclosing_bbox_area_pair(b1: torch.Tensor, b2: torch.Tensor, dim: int=2):\n",
    "    xc = torch.min(b1[:, :dim], b2[:, :dim])\n",
    "    yc = torch.max(b1[:, dim:], b2[:, dim:])\n",
    "    area = torch.prod(torch.clamp(yc-xc, min=0), dim=-1)\n",
    "    return area "
   ]
  },
  {
   "cell_type": "code",
   "execution_count": null,
   "id": "0b59d972",
   "metadata": {},
   "outputs": [
    {
     "name": "stdout",
     "output_type": "stream",
     "text": [
      "CPU times: user 1.36 ms, sys: 765 µs, total: 2.12 ms\n",
      "Wall time: 1.38 ms\n"
     ]
    },
    {
     "data": {
      "text/plain": [
       "tensor([ 900., 4225.,   16., 4225.,  900.])"
      ]
     },
     "execution_count": null,
     "metadata": {},
     "output_type": "execute_result"
    }
   ],
   "source": [
    "%time C = min_enclosing_bbox_area_pair(xy, yx)\n",
    "C"
   ]
  },
  {
   "cell_type": "code",
   "execution_count": null,
   "id": "ec20f9e6",
   "metadata": {},
   "outputs": [
    {
     "data": {
      "text/plain": [
       "tensor([900.])"
      ]
     },
     "execution_count": null,
     "metadata": {},
     "output_type": "execute_result"
    }
   ],
   "source": [
    "min_enclosing_bbox_area_pair(xy[0].unsqueeze(0), yx[0].unsqueeze(0))"
   ]
  },
  {
   "cell_type": "code",
   "execution_count": null,
   "id": "2d2c6509",
   "metadata": {},
   "outputs": [
    {
     "data": {
      "text/plain": [
       "tensor([400.,   0.,  16.,   0., 400.])"
      ]
     },
     "execution_count": null,
     "metadata": {},
     "output_type": "execute_result"
    }
   ],
   "source": [
    "inter_iou = intersection_area_pair(xy, yx)\n",
    "inter_iou"
   ]
  },
  {
   "cell_type": "code",
   "execution_count": null,
   "id": "439d12b1",
   "metadata": {},
   "outputs": [
    {
     "data": {
      "text/plain": [
       "tensor([ 900., 1700.,   16., 1700.,  900.])"
      ]
     },
     "execution_count": null,
     "metadata": {},
     "output_type": "execute_result"
    }
   ],
   "source": [
    "union = (bbox_area(xy)+bbox_area(yx)-inter_iou)\n",
    "union"
   ]
  },
  {
   "cell_type": "code",
   "execution_count": null,
   "id": "52962105",
   "metadata": {},
   "outputs": [
    {
     "data": {
      "text/plain": [
       "tensor([0.0000, 0.5976, 0.0000, 0.5976, 0.0000])"
      ]
     },
     "execution_count": null,
     "metadata": {},
     "output_type": "execute_result"
    }
   ],
   "source": [
    "penalty = (C - union)/C\n",
    "penalty"
   ]
  },
  {
   "cell_type": "code",
   "execution_count": null,
   "id": "6fd0ef47",
   "metadata": {},
   "outputs": [
    {
     "data": {
      "text/plain": [
       "tensor([ 0.4444, -0.5976,  1.0000, -0.5976,  0.4444])"
      ]
     },
     "execution_count": null,
     "metadata": {},
     "output_type": "execute_result"
    }
   ],
   "source": [
    "(inter_iou/union) - penalty"
   ]
  },
  {
   "cell_type": "code",
   "execution_count": null,
   "id": "75297e72",
   "metadata": {},
   "outputs": [],
   "source": [
    "#| export\n",
    "def bbox_pair_giou(b1: torch.Tensor, b2: torch.Tensor):\n",
    "    \"\"\"where b1 and b2 are of the same shape [N, 4/6]\"\"\"\n",
    "    dim = bbox_dim(b1)\n",
    "    C = min_enclosing_bbox_area_pair(b1, b2, dim)\n",
    "    inter_iou = intersection_area_pair(b1, b2, dim)\n",
    "    b1a, b2a = bbox_area(b1, dim), bbox_area(b2, dim)\n",
    "    union = (b1a+b2a-inter_iou)\n",
    "    penalty = (C-union)/(C+EPS)\n",
    "    iou = inter_iou/(union+EPS)\n",
    "    giou = iou - penalty\n",
    "    return giou"
   ]
  },
  {
   "cell_type": "code",
   "execution_count": null,
   "id": "0e41a6f1",
   "metadata": {},
   "outputs": [
    {
     "name": "stdout",
     "output_type": "stream",
     "text": [
      "CPU times: user 1.28 ms, sys: 621 µs, total: 1.9 ms\n",
      "Wall time: 1.37 ms\n"
     ]
    },
    {
     "data": {
      "text/plain": [
       "tensor([ 0.4444, -0.5976,  1.0000, -0.5976,  0.4444])"
      ]
     },
     "execution_count": null,
     "metadata": {},
     "output_type": "execute_result"
    }
   ],
   "source": [
    "%time bbox_pair_giou(xy, yx)"
   ]
  },
  {
   "cell_type": "code",
   "execution_count": null,
   "id": "5fa802ad",
   "metadata": {},
   "outputs": [],
   "source": [
    "#| export \n",
    "def min_enclosing_bbox_area(b1: torch.Tensor, b2: torch.Tensor, dim: int=2):\n",
    "    xc = torch.min(b1[:, None, :dim], b2[:, :dim])\n",
    "    yc = torch.max(b1[:, None, dim:], b2[:, dim:])\n",
    "    area = torch.prod(torch.clamp(yc-xc, min=0), dim=-1)\n",
    "    return area "
   ]
  },
  {
   "cell_type": "code",
   "execution_count": null,
   "id": "3c32177f",
   "metadata": {},
   "outputs": [
    {
     "name": "stdout",
     "output_type": "stream",
     "text": [
      "CPU times: user 1.43 ms, sys: 611 µs, total: 2.04 ms\n",
      "Wall time: 1.48 ms\n"
     ]
    },
    {
     "data": {
      "text/plain": [
       "tensor([[ 900., 4900.,  400.,  400.,  400.],\n",
       "        [ 900., 4225.,  169.,  100.,  400.],\n",
       "        [ 900., 3136.,   16.,  169.,  400.],\n",
       "        [5625., 1600., 3136., 4225., 4900.],\n",
       "        [ 900., 5625.,  900.,  900.,  900.]])"
      ]
     },
     "execution_count": null,
     "metadata": {},
     "output_type": "execute_result"
    }
   ],
   "source": [
    "%time C = min_enclosing_bbox_area(xy, yx)\n",
    "C"
   ]
  },
  {
   "cell_type": "code",
   "execution_count": null,
   "id": "4092f18d",
   "metadata": {},
   "outputs": [],
   "source": [
    "#| export \n",
    "def bbox_giou(b1: torch.Tensor, b2: torch.Tensor):\n",
    "    \"\"\"where b1 and b2 are of the same shape [N, 4/6]\"\"\"\n",
    "    dim = bbox_dim(b1)\n",
    "    C = min_enclosing_bbox_area(b1, b2, dim)\n",
    "    inter_iou = intersection_area(b1, b2, dim)\n",
    "    b1a, b2a = bbox_area(b1, dim), bbox_area(b2, dim)\n",
    "    union = (b1a[:, None]+b2a-inter_iou)\n",
    "    penalty = (C-union)/(C+EPS)\n",
    "    iou = inter_iou/(union+EPS)\n",
    "    giou = iou - penalty\n",
    "    return giou"
   ]
  },
  {
   "cell_type": "code",
   "execution_count": null,
   "id": "2334ba93",
   "metadata": {},
   "outputs": [
    {
     "data": {
      "text/plain": [
       "tensor([[ 0.4444, -0.5918,  0.0400,  0.2500,  1.0000],\n",
       "        [ 0.1111, -0.5976, -0.3108,  1.0000,  0.2500],\n",
       "        [ 0.0178, -0.4847,  1.0000, -0.3108,  0.0400],\n",
       "        [-0.5556,  1.0000, -0.4847, -0.5976, -0.5918],\n",
       "        [ 1.0000, -0.5556,  0.0178,  0.1111,  0.4444]])"
      ]
     },
     "execution_count": null,
     "metadata": {},
     "output_type": "execute_result"
    }
   ],
   "source": [
    "giou = bbox_giou(xy, yx)\n",
    "giou"
   ]
  },
  {
   "cell_type": "code",
   "execution_count": null,
   "id": "9bedd053",
   "metadata": {},
   "outputs": [
    {
     "data": {
      "text/plain": [
       "tensor([[ 0.4444, -0.5918,  0.0400,  0.2500,  1.0000],\n",
       "        [ 0.1111, -0.5976, -0.3108,  1.0000,  0.2500],\n",
       "        [ 0.0178, -0.4847,  1.0000, -0.3108,  0.0400],\n",
       "        [-0.5556,  1.0000, -0.4847, -0.5976, -0.5918],\n",
       "        [ 1.0000, -0.5556,  0.0178,  0.1111,  0.4444]])"
      ]
     },
     "execution_count": null,
     "metadata": {},
     "output_type": "execute_result"
    }
   ],
   "source": [
    "torchvision.ops.generalized_box_iou(xy, yx)"
   ]
  },
  {
   "cell_type": "code",
   "execution_count": null,
   "id": "7cf79a28",
   "metadata": {},
   "outputs": [],
   "source": [
    "fc.test_close(bbox_giou(xy, yx), torchvision.ops.generalized_box_iou(xy, yx), eps=1e-3)\n",
    "fc.test_close(bbox_giou(xy, xy), torchvision.ops.generalized_box_iou(xy, xy), eps=1e-3)\n",
    "fc.test_close(bbox_giou(xy[0].unsqueeze(0), yx[0].unsqueeze(0)), \\\n",
    "              torchvision.ops.generalized_box_iou(xy[0].unsqueeze(0), yx[0].unsqueeze(0)), eps=1e-3)"
   ]
  },
  {
   "cell_type": "code",
   "execution_count": null,
   "id": "140af59b",
   "metadata": {},
   "outputs": [
    {
     "name": "stdout",
     "output_type": "stream",
     "text": [
      "171 µs ± 62.4 µs per loop (mean ± std. dev. of 7 runs, 10 loops each)\n"
     ]
    }
   ],
   "source": [
    "%timeit -n 10 bbox_giou(xy, yx)"
   ]
  },
  {
   "cell_type": "code",
   "execution_count": null,
   "id": "6e4ca19e",
   "metadata": {},
   "outputs": [
    {
     "name": "stdout",
     "output_type": "stream",
     "text": [
      "197 µs ± 73.4 µs per loop (mean ± std. dev. of 7 runs, 10 loops each)\n"
     ]
    }
   ],
   "source": [
    "%timeit -n 10 torchvision.ops.generalized_box_iou(xy, yx)"
   ]
  },
  {
   "cell_type": "markdown",
   "id": "4ecd41d0",
   "metadata": {},
   "source": [
    "## DIoU\n",
    "\n",
    "- GIoU loss takes a lot of time to converge and this is experimently simulated and found in [`Distance-IoU Loss: Faster and Better Learning for Bounding Box Regression`](https://arxiv.org/pdf/1911.08287.pdf)\n",
    "- `DIoU` loss tries to minimize the eculidean distance between `gt_box` and `pred_box`. this converges faster compared to `GIoU` or `IoU` when used as a loss function.\n",
    "- `GIoU` loss will totally degrade to IoU loss for enclosing bounding boxes.\n",
    "\n",
    "$$\n",
    "R_{DIOU} = \\frac{\\rho^2(b, b^{gt})}{c^2}\n",
    "$$\n",
    "\n",
    "$$\n",
    "L_{DIoU} = 1 - IOU + R_{DIOU}\n",
    "$$\n",
    "\n",
    "- where $\\rho(.)$ is the eculidean distance between b and $b^{gt}$,\n",
    "- c is the diagonal length of the samllest enclosing box covering the two boxes"
   ]
  },
  {
   "cell_type": "markdown",
   "id": "8f5428bf",
   "metadata": {},
   "source": [
    "### steps involved \n",
    "- Find the distance between the centers (eculidean squared)\n",
    "- find the enclosing bounding boxe and find diagonal distance (squared)\n",
    "- calculate iou \n",
    "- calculate diou"
   ]
  },
  {
   "cell_type": "code",
   "execution_count": null,
   "id": "3993bd85",
   "metadata": {},
   "outputs": [
    {
     "data": {
      "text/plain": [
       "(tensor([[10., 10., 30., 30.],\n",
       "         [15., 15., 25., 25.],\n",
       "         [24., 24., 28., 28.],\n",
       "         [40., 40., 80., 80.],\n",
       "         [ 5.,  5., 35., 35.]]),\n",
       " tensor([[ 5.,  5., 35., 35.],\n",
       "         [40., 40., 80., 80.],\n",
       "         [24., 24., 28., 28.],\n",
       "         [15., 15., 25., 25.],\n",
       "         [10., 10., 30., 30.]]))"
      ]
     },
     "execution_count": null,
     "metadata": {},
     "output_type": "execute_result"
    }
   ],
   "source": [
    "xy, yx"
   ]
  },
  {
   "cell_type": "code",
   "execution_count": null,
   "id": "e4df6df9",
   "metadata": {},
   "outputs": [
    {
     "data": {
      "text/plain": [
       "tensor([[20., 20.],\n",
       "        [20., 20.],\n",
       "        [26., 26.],\n",
       "        [60., 60.],\n",
       "        [20., 20.]])"
      ]
     },
     "execution_count": null,
     "metadata": {},
     "output_type": "execute_result"
    }
   ],
   "source": [
    "xy_ctrs = (xy[:, 2:] + xy[:, :2])/2\n",
    "xy_ctrs"
   ]
  },
  {
   "cell_type": "code",
   "execution_count": null,
   "id": "1c39ba86",
   "metadata": {},
   "outputs": [
    {
     "data": {
      "text/plain": [
       "tensor([[20., 20.],\n",
       "        [60., 60.],\n",
       "        [26., 26.],\n",
       "        [20., 20.],\n",
       "        [20., 20.]])"
      ]
     },
     "execution_count": null,
     "metadata": {},
     "output_type": "execute_result"
    }
   ],
   "source": [
    "yx_ctrs = (yx[:, 2:] + yx[:, :2])/2\n",
    "yx_ctrs"
   ]
  },
  {
   "cell_type": "code",
   "execution_count": null,
   "id": "7a680165",
   "metadata": {},
   "outputs": [
    {
     "data": {
      "text/plain": [
       "tensor([[  0.,   0.],\n",
       "        [ 40.,  40.],\n",
       "        [  0.,   0.],\n",
       "        [-40., -40.],\n",
       "        [  0.,   0.]])"
      ]
     },
     "execution_count": null,
     "metadata": {},
     "output_type": "execute_result"
    }
   ],
   "source": [
    "(yx_ctrs - xy_ctrs)"
   ]
  },
  {
   "cell_type": "code",
   "execution_count": null,
   "id": "df35187e",
   "metadata": {},
   "outputs": [
    {
     "data": {
      "text/plain": [
       "tensor([   0., 3200.,    0., 3200.,    0.])"
      ]
     },
     "execution_count": null,
     "metadata": {},
     "output_type": "execute_result"
    }
   ],
   "source": [
    "rho_sq = ((yx_ctrs - xy_ctrs)**2).sum(1)\n",
    "rho_sq"
   ]
  },
  {
   "cell_type": "markdown",
   "id": "dbafcef6",
   "metadata": {},
   "source": [
    "> Calculate min_enclosing bbox and find its diagnoal distance. "
   ]
  },
  {
   "cell_type": "code",
   "execution_count": null,
   "id": "70e259b4",
   "metadata": {},
   "outputs": [
    {
     "data": {
      "text/plain": [
       "tensor([[ 5.,  5.],\n",
       "        [15., 15.],\n",
       "        [24., 24.],\n",
       "        [15., 15.],\n",
       "        [ 5.,  5.]])"
      ]
     },
     "execution_count": null,
     "metadata": {},
     "output_type": "execute_result"
    }
   ],
   "source": [
    "xc = torch.min(xy[:, :2], yx[:, :2])\n",
    "xc"
   ]
  },
  {
   "cell_type": "code",
   "execution_count": null,
   "id": "89927c19",
   "metadata": {},
   "outputs": [
    {
     "data": {
      "text/plain": [
       "tensor([[35., 35.],\n",
       "        [80., 80.],\n",
       "        [28., 28.],\n",
       "        [80., 80.],\n",
       "        [35., 35.]])"
      ]
     },
     "execution_count": null,
     "metadata": {},
     "output_type": "execute_result"
    }
   ],
   "source": [
    "yc = torch.max(xy[:, 2:], yx[:, 2:])\n",
    "yc"
   ]
  },
  {
   "cell_type": "code",
   "execution_count": null,
   "id": "df51b2b5",
   "metadata": {},
   "outputs": [
    {
     "data": {
      "text/plain": [
       "tensor([1800., 8450.,   32., 8450., 1800.])"
      ]
     },
     "execution_count": null,
     "metadata": {},
     "output_type": "execute_result"
    }
   ],
   "source": [
    "diag_sq = ((yc - xc)**2).sum(1)\n",
    "diag_sq"
   ]
  },
  {
   "cell_type": "markdown",
   "id": "80fad083",
   "metadata": {},
   "source": [
    "> calculate DIoU"
   ]
  },
  {
   "cell_type": "code",
   "execution_count": null,
   "id": "97dba9ec",
   "metadata": {},
   "outputs": [
    {
     "data": {
      "text/plain": [
       "tensor([0.4444, 0.0000, 1.0000, 0.0000, 0.4444])"
      ]
     },
     "execution_count": null,
     "metadata": {},
     "output_type": "execute_result"
    }
   ],
   "source": [
    "iou = bbox_pair_iou(xy, yx)\n",
    "iou"
   ]
  },
  {
   "cell_type": "code",
   "execution_count": null,
   "id": "dbd1903b",
   "metadata": {},
   "outputs": [
    {
     "data": {
      "text/plain": [
       "tensor([ 0.4444, -0.3787,  1.0000, -0.3787,  0.4444])"
      ]
     },
     "execution_count": null,
     "metadata": {},
     "output_type": "execute_result"
    }
   ],
   "source": [
    "diou = iou - (rho_sq/diag_sq)\n",
    "diou"
   ]
  },
  {
   "cell_type": "code",
   "execution_count": null,
   "id": "a794de4e",
   "metadata": {},
   "outputs": [],
   "source": [
    "#| export \n",
    "def bbox_diou_pair(b1: torch.Tensor, b2: torch.Tensor):\n",
    "    \"\"\"where b1 and b2 have same shape N x 4/6\"\"\"\n",
    "    dim = bbox_dim(b1)\n",
    "    iou = bbox_pair_iou(b1, b2)\n",
    "    \n",
    "    ## center Distance between the bounding boxes\n",
    "    b1_ctrs = (b1[:,  dim:] + b1[:, :dim])/2\n",
    "    b2_ctrs = (b2[:,  dim:] + b2[:, :dim])/2\n",
    "    rho_sq = ((b1_ctrs - b2_ctrs)**2).sum(1)\n",
    "    \n",
    "    ## min-enclosing bbox diagnoal distance. \n",
    "    xc = torch.min(b1[:, :dim], b2[:, :dim])\n",
    "    yc = torch.max(b1[:, dim:], b2[:, dim:])\n",
    "    diag_sq = ((yc - xc)**2).sum(1)\n",
    "    \n",
    "    diou = iou - (rho_sq/(diag_sq+EPS))\n",
    "    return diou"
   ]
  },
  {
   "cell_type": "code",
   "execution_count": null,
   "id": "a6f0406a",
   "metadata": {},
   "outputs": [
    {
     "name": "stdout",
     "output_type": "stream",
     "text": [
      "CPU times: user 1.38 ms, sys: 648 µs, total: 2.03 ms\n",
      "Wall time: 1.78 ms\n"
     ]
    },
    {
     "data": {
      "text/plain": [
       "tensor([ 0.4444, -0.3787,  1.0000, -0.3787,  0.4444])"
      ]
     },
     "execution_count": null,
     "metadata": {},
     "output_type": "execute_result"
    }
   ],
   "source": [
    "%time bbox_diou_pair(xy, yx)"
   ]
  },
  {
   "cell_type": "markdown",
   "id": "709e27b7",
   "metadata": {},
   "source": [
    "> Using broadcasting to find between all pairs "
   ]
  },
  {
   "cell_type": "code",
   "execution_count": null,
   "id": "36a91c55",
   "metadata": {},
   "outputs": [],
   "source": [
    "#| export \n",
    "def bbox_diou(b1: torch.Tensor, b2: torch.Tensor):\n",
    "    \"\"\"where b1 is Nx4 and b2 is Mx4\"\"\"\n",
    "    dim = bbox_dim(b1)\n",
    "    iou = bbox_iou(b1, b2)\n",
    "    \n",
    "    ## center Distance between the bounding boxes\n",
    "    b1_ctrs = (b1[:,  dim:] + b1[:, :dim])/2\n",
    "    b2_ctrs = (b2[:,  dim:] + b2[:, :dim])/2\n",
    "    rho_sq = ((b1_ctrs[:, None, :] - b2_ctrs)**2).sum(2)\n",
    "    \n",
    "    ## min-enclosing bbox diagnoal distance. \n",
    "    xc = torch.min(b1[:, None,  :dim], b2[:, :dim])\n",
    "    yc = torch.max(b1[:, None, dim:], b2[:, dim:])\n",
    "    diag_sq = ((yc - xc)**2).sum(2)\n",
    "    \n",
    "    diou = iou - (rho_sq/(diag_sq+EPS))\n",
    "    return diou"
   ]
  },
  {
   "cell_type": "code",
   "execution_count": null,
   "id": "a8c5b18c",
   "metadata": {},
   "outputs": [
    {
     "name": "stdout",
     "output_type": "stream",
     "text": [
      "244 µs ± 107 µs per loop (mean ± std. dev. of 7 runs, 10 loops each)\n"
     ]
    }
   ],
   "source": [
    "%timeit -n 10 bbox_diou(xy, yx)"
   ]
  },
  {
   "cell_type": "code",
   "execution_count": null,
   "id": "610ef739",
   "metadata": {},
   "outputs": [
    {
     "name": "stdout",
     "output_type": "stream",
     "text": [
      "337 µs ± 114 µs per loop (mean ± std. dev. of 7 runs, 10 loops each)\n"
     ]
    }
   ],
   "source": [
    "%timeit -n 10 torchvision.ops.distance_box_iou(xy, yx)"
   ]
  },
  {
   "cell_type": "code",
   "execution_count": null,
   "id": "6b959534",
   "metadata": {},
   "outputs": [],
   "source": [
    "fc.test_close(torchvision.ops.distance_box_iou(xy, yx), bbox_diou(xy, yx), eps=1e-2)\n",
    "fc.test_close(torchvision.ops.distance_box_iou(xy[0].unsqueeze(0), yx[0].unsqueeze(0)), \\\n",
    "              bbox_diou(xy[0].unsqueeze(0), yx[0].unsqueeze(0)), eps=1e-2)"
   ]
  },
  {
   "cell_type": "markdown",
   "id": "aefae442",
   "metadata": {},
   "source": [
    "## CIOU"
   ]
  },
  {
   "cell_type": "code",
   "execution_count": null,
   "id": "0f2adc24",
   "metadata": {},
   "outputs": [],
   "source": [
    "#| hide\n",
    "import nbdev; nbdev.nbdev_export()"
   ]
  },
  {
   "cell_type": "code",
   "execution_count": null,
   "id": "d4a99be0",
   "metadata": {},
   "outputs": [],
   "source": []
  }
 ],
 "metadata": {
  "kernelspec": {
   "display_name": "Python (vision)",
   "language": "python",
   "name": "vision"
  }
 },
 "nbformat": 4,
 "nbformat_minor": 5
}
