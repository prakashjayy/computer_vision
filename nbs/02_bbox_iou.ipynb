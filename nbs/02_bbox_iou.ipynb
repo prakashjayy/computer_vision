{
 "cells": [
  {
   "cell_type": "code",
   "execution_count": null,
   "id": "212a1cf0",
   "metadata": {},
   "outputs": [],
   "source": [
    "#| default_exp bbox_iou"
   ]
  },
  {
   "cell_type": "markdown",
   "id": "5459c4ce",
   "metadata": {},
   "source": [
    "We will implement different types of IoUs and understand the intution behind them. IoU stands for intersection over union.\n",
    "\n",
    "- IOU - Intersection over union \n",
    "- GIOU.- generalized IOU\n",
    "- DIOU - Distance IOU\n",
    "- CIOU - Complete IOU. "
   ]
  },
  {
   "cell_type": "code",
   "execution_count": null,
   "id": "e1e5bba7",
   "metadata": {},
   "outputs": [],
   "source": [
    "#| export \n",
    "import numpy as np \n",
    "import torch\n",
    "from typing import Union"
   ]
  },
  {
   "cell_type": "code",
   "execution_count": null,
   "id": "f8082711",
   "metadata": {},
   "outputs": [],
   "source": [
    "import torchvision\n",
    "import fastcore.all as fc"
   ]
  },
  {
   "cell_type": "code",
   "execution_count": null,
   "id": "80a861b7",
   "metadata": {},
   "outputs": [],
   "source": [
    "#| export \n",
    "def bbox_dim(bbox: Union[np.ndarray, torch.Tensor]):\n",
    "    \"\"\"bbox: N x [4/6]\"\"\"\n",
    "    if bbox.shape[1] == 6: return 3\n",
    "    if bbox.shape[1] == 4: return 2\n",
    "    raise NotImplementedError(\"Only 2D and 3D bboxes are defined\")"
   ]
  },
  {
   "cell_type": "code",
   "execution_count": null,
   "id": "560e57a7",
   "metadata": {},
   "outputs": [],
   "source": [
    "fc.eq(bbox_dim(np.ones((4, 6))), 3)\n",
    "fc.eq(bbox_dim(torch.ones((2, 4))), 2)\n",
    "fc.test_fail(bbox_dim, args=dict(bbox=torch.ones((4, 10))))"
   ]
  },
  {
   "cell_type": "markdown",
   "id": "48717e09",
   "metadata": {},
   "source": [
    "## IOU (Intersection over union) \n",
    "\n",
    "$$\n",
    "IOU = \\frac{A\\bigcap B}{ A \\bigcup B}\n",
    "$$"
   ]
  },
  {
   "cell_type": "code",
   "execution_count": null,
   "id": "9895c30a",
   "metadata": {},
   "outputs": [
    {
     "data": {
      "text/plain": [
       "(tensor([[ 0.,  0., 10., 10.],\n",
       "         [10., 10., 20., 20.]]),\n",
       " tensor([[ 5.,  5., 15., 15.],\n",
       "         [15., 15., 25., 25.]]))"
      ]
     },
     "execution_count": null,
     "metadata": {},
     "output_type": "execute_result"
    }
   ],
   "source": [
    "b1 = torch.Tensor([[0, 0, 10, 10], [10, 10, 20, 20]])\n",
    "b2 = torch.Tensor([[5, 5, 15, 15], [15, 15, 25, 25]])\n",
    "b1, b2"
   ]
  },
  {
   "cell_type": "markdown",
   "id": "9b249f81",
   "metadata": {},
   "source": [
    "> two rectangular bboxes intersection (b1 & b2) will also be a rectangular bbox (b). \n",
    "\n",
    "> so `b of [x1, y1]` is `max(b1[x1,y1], b2[x1, y1])` and `b of [x2, y2]` is `min(b1[x2,y2], b2[x2, y2])`"
   ]
  },
  {
   "cell_type": "code",
   "execution_count": null,
   "id": "7d8a3670",
   "metadata": {},
   "outputs": [
    {
     "data": {
      "text/plain": [
       "(tensor([ 0.,  0., 10., 10.]), tensor([ 5.,  5., 15., 15.]))"
      ]
     },
     "execution_count": null,
     "metadata": {},
     "output_type": "execute_result"
    }
   ],
   "source": [
    "b1a = b1[0]\n",
    "b2a = b2[0]\n",
    "b1a, b2a"
   ]
  },
  {
   "cell_type": "code",
   "execution_count": null,
   "id": "cac5d21e",
   "metadata": {},
   "outputs": [
    {
     "data": {
      "text/plain": [
       "(tensor([5., 5.]), tensor([10., 10.]))"
      ]
     },
     "execution_count": null,
     "metadata": {},
     "output_type": "execute_result"
    }
   ],
   "source": [
    "x1 = torch.max(b1a[:2], b2a[:2])\n",
    "x2 = torch.min(b1a[2:], b2a[2:])\n",
    "x1, x2"
   ]
  },
  {
   "cell_type": "code",
   "execution_count": null,
   "id": "383d2b6f",
   "metadata": {},
   "outputs": [
    {
     "data": {
      "text/plain": [
       "tensor([5., 5.])"
      ]
     },
     "execution_count": null,
     "metadata": {},
     "output_type": "execute_result"
    }
   ],
   "source": [
    "inter_hw = torch.clamp((x2 - x1), min=0)\n",
    "inter_hw"
   ]
  },
  {
   "cell_type": "code",
   "execution_count": null,
   "id": "d0a1bf4a",
   "metadata": {},
   "outputs": [
    {
     "data": {
      "text/plain": [
       "tensor(25.)"
      ]
     },
     "execution_count": null,
     "metadata": {},
     "output_type": "execute_result"
    }
   ],
   "source": [
    "inter = torch.prod(inter_hw, dim=-1)\n",
    "inter"
   ]
  },
  {
   "cell_type": "markdown",
   "id": "84c6253a",
   "metadata": {},
   "source": [
    "> calculate the area of b1a, b2a also"
   ]
  },
  {
   "cell_type": "code",
   "execution_count": null,
   "id": "22d649c3",
   "metadata": {},
   "outputs": [
    {
     "data": {
      "text/plain": [
       "(tensor(100.), tensor(100.))"
      ]
     },
     "execution_count": null,
     "metadata": {},
     "output_type": "execute_result"
    }
   ],
   "source": [
    "b1a_area = torch.prod(b1a[2:] - b1a[:2], dim=-1)\n",
    "b2a_area = torch.prod(b2a[2:] - b2a[:2], dim=-1)\n",
    "b1a_area, b2a_area"
   ]
  },
  {
   "cell_type": "code",
   "execution_count": null,
   "id": "d26b9e50",
   "metadata": {},
   "outputs": [
    {
     "data": {
      "text/plain": [
       "tensor(0.1429)"
      ]
     },
     "execution_count": null,
     "metadata": {},
     "output_type": "execute_result"
    }
   ],
   "source": [
    "iou = inter/ (b1a_area + b2a_area - inter)\n",
    "iou"
   ]
  },
  {
   "cell_type": "markdown",
   "id": "2e923c6e",
   "metadata": {},
   "source": [
    "> when doing over multiple boxes , `b1 [N, 4]` and `b2 [N, 4]` are of same size "
   ]
  },
  {
   "cell_type": "code",
   "execution_count": null,
   "id": "03d7317c",
   "metadata": {},
   "outputs": [
    {
     "data": {
      "text/plain": [
       "tensor([[ 0.,  0., 10., 10.],\n",
       "        [10., 10., 20., 20.]])"
      ]
     },
     "execution_count": null,
     "metadata": {},
     "output_type": "execute_result"
    }
   ],
   "source": [
    "b1"
   ]
  },
  {
   "cell_type": "code",
   "execution_count": null,
   "id": "90457932",
   "metadata": {},
   "outputs": [
    {
     "data": {
      "text/plain": [
       "tensor([[ 5.,  5., 15., 15.],\n",
       "        [15., 15., 25., 25.]])"
      ]
     },
     "execution_count": null,
     "metadata": {},
     "output_type": "execute_result"
    }
   ],
   "source": [
    "b2"
   ]
  },
  {
   "cell_type": "code",
   "execution_count": null,
   "id": "12c10484",
   "metadata": {},
   "outputs": [
    {
     "data": {
      "text/plain": [
       "(tensor([[ 5.,  5.],\n",
       "         [15., 15.]]),\n",
       " tensor([[10., 10.],\n",
       "         [20., 20.]]))"
      ]
     },
     "execution_count": null,
     "metadata": {},
     "output_type": "execute_result"
    }
   ],
   "source": [
    "x1 = torch.max(b1[:, :2], b2[:, :2])\n",
    "x2 = torch.min(b1[:, 2:], b2[:, 2:])\n",
    "x1, x2"
   ]
  },
  {
   "cell_type": "code",
   "execution_count": null,
   "id": "8732954a",
   "metadata": {},
   "outputs": [
    {
     "data": {
      "text/plain": [
       "tensor([25., 25.])"
      ]
     },
     "execution_count": null,
     "metadata": {},
     "output_type": "execute_result"
    }
   ],
   "source": [
    "inter_hw = torch.clamp((x2 - x1), min=0)\n",
    "inter = torch.prod(inter_hw, dim=-1)\n",
    "inter"
   ]
  },
  {
   "cell_type": "code",
   "execution_count": null,
   "id": "7ee54ffb",
   "metadata": {},
   "outputs": [],
   "source": [
    "#| export \n",
    "def intersection_area_pair(b1: torch.Tensor, b2: torch.Tensor, dim: int=2):\n",
    "    x1 = torch.max(b1[:, :dim], b2[:, :dim])\n",
    "    x2 = torch.min(b1[:, dim:], b2[:, dim:])\n",
    "    inter_hw = torch.clamp((x2 - x1), min=0)\n",
    "    inter = torch.prod(inter_hw, dim=-1)\n",
    "    return inter"
   ]
  },
  {
   "cell_type": "code",
   "execution_count": null,
   "id": "ade0546f",
   "metadata": {},
   "outputs": [
    {
     "name": "stdout",
     "output_type": "stream",
     "text": [
      "CPU times: user 1.3 ms, sys: 1.05 ms, total: 2.35 ms\n",
      "Wall time: 1.5 ms\n"
     ]
    },
    {
     "data": {
      "text/plain": [
       "tensor([25., 25.])"
      ]
     },
     "execution_count": null,
     "metadata": {},
     "output_type": "execute_result"
    }
   ],
   "source": [
    "%time intersection_area_pair(b1, b2, 2)\n"
   ]
  },
  {
   "cell_type": "code",
   "execution_count": null,
   "id": "255e4600",
   "metadata": {},
   "outputs": [
    {
     "data": {
      "text/plain": [
       "(tensor([100., 100.]), tensor([100., 100.]))"
      ]
     },
     "execution_count": null,
     "metadata": {},
     "output_type": "execute_result"
    }
   ],
   "source": [
    "b1_area = torch.prod(b1[:, 2:] - b1[:, :2], dim=-1)\n",
    "b2_area = torch.prod(b2[:, 2:] - b2[:, :2], dim=-1)\n",
    "b1_area, b2_area"
   ]
  },
  {
   "cell_type": "code",
   "execution_count": null,
   "id": "1053a5b3",
   "metadata": {},
   "outputs": [],
   "source": [
    "#| export \n",
    "def bbox_area(b: torch.Tensor, dim: int=2):\n",
    "    return torch.prod(b[:, dim:] - b[:, :dim], dim=-1)"
   ]
  },
  {
   "cell_type": "code",
   "execution_count": null,
   "id": "3ec2cbc8",
   "metadata": {},
   "outputs": [
    {
     "data": {
      "text/plain": [
       "(tensor([100., 100.]), tensor([100., 100.]))"
      ]
     },
     "execution_count": null,
     "metadata": {},
     "output_type": "execute_result"
    }
   ],
   "source": [
    "b1_area, b2_area = bbox_area(b1), bbox_area(b2)\n",
    "b1_area, b2_area"
   ]
  },
  {
   "cell_type": "code",
   "execution_count": null,
   "id": "b936b02d",
   "metadata": {},
   "outputs": [
    {
     "data": {
      "text/plain": [
       "tensor([0.1429, 0.1429])"
      ]
     },
     "execution_count": null,
     "metadata": {},
     "output_type": "execute_result"
    }
   ],
   "source": [
    "iou = inter/ (b1_area + b2_area - inter)\n",
    "iou"
   ]
  },
  {
   "cell_type": "code",
   "execution_count": null,
   "id": "cdabadf4",
   "metadata": {},
   "outputs": [],
   "source": [
    "#| export \n",
    "def bbox_pair_iou(b1: torch.Tensor, b2: torch.Tensor):\n",
    "    \"\"\"where b1 and b2 are of the same shape [N, 4/6]\"\"\"\n",
    "    assert b1.shape == b2.shape , \"b1 and b2 are of not the same shape\"\n",
    "    dim = bbox_dim(b1)\n",
    "    inter = intersection_area_pair(b1, b2, dim)\n",
    "    b1_area, b2_area = bbox_area(b1, dim), bbox_area(b2, dim)\n",
    "    iou = inter/ (b1_area + b2_area - inter)\n",
    "    return iou"
   ]
  },
  {
   "cell_type": "code",
   "execution_count": null,
   "id": "9cf625e1",
   "metadata": {},
   "outputs": [
    {
     "name": "stdout",
     "output_type": "stream",
     "text": [
      "CPU times: user 1.85 ms, sys: 1.31 ms, total: 3.17 ms\n",
      "Wall time: 1.86 ms\n"
     ]
    },
    {
     "data": {
      "text/plain": [
       "tensor([0.1429, 0.1429])"
      ]
     },
     "execution_count": null,
     "metadata": {},
     "output_type": "execute_result"
    }
   ],
   "source": [
    "%time bbox_pair_iou(b1, b2)"
   ]
  },
  {
   "cell_type": "code",
   "execution_count": null,
   "id": "91dabcfe",
   "metadata": {},
   "outputs": [
    {
     "data": {
      "text/plain": [
       "(torch.Size([1000, 6]), torch.Size([1000, 6]))"
      ]
     },
     "execution_count": null,
     "metadata": {},
     "output_type": "execute_result"
    }
   ],
   "source": [
    "x = torch.hstack([torch.randint(20, size=(1000, 1)) for _ in range(3)])\n",
    "y = torch.Tensor([[40, 40, 40] for i in range(1000)])\n",
    "xy = torch.hstack([x, y])\n",
    "yx = xy.flipud()\n",
    "xy.shape, yx.shape"
   ]
  },
  {
   "cell_type": "code",
   "execution_count": null,
   "id": "7bcdf9dd",
   "metadata": {},
   "outputs": [
    {
     "name": "stdout",
     "output_type": "stream",
     "text": [
      "CPU times: user 1.79 ms, sys: 944 µs, total: 2.74 ms\n",
      "Wall time: 1.74 ms\n"
     ]
    }
   ],
   "source": [
    "%time iou = bbox_pair_iou(xy, yx)"
   ]
  },
  {
   "cell_type": "code",
   "execution_count": null,
   "id": "b693de3b",
   "metadata": {},
   "outputs": [
    {
     "data": {
      "text/plain": [
       "True"
      ]
     },
     "execution_count": null,
     "metadata": {},
     "output_type": "execute_result"
    }
   ],
   "source": [
    "fc.all_equal(bbox_pair_iou(xy, xy), torch.ones(xy.shape))"
   ]
  },
  {
   "cell_type": "markdown",
   "id": "845f2893",
   "metadata": {},
   "source": [
    "> what if u want the iou of a box in `b1` with every bbox in `b2`. Here is where torch/numpy broadcasting helps us\n",
    "\n",
    "```\n",
    "M, 4 -> [1, M, 4]  \n",
    "\n",
    "N, 4 -> [N, 1, 4]  \n",
    "        ---------\n",
    "        [N, M, 4] \n",
    "```"
   ]
  },
  {
   "cell_type": "code",
   "execution_count": null,
   "id": "fc868967",
   "metadata": {},
   "outputs": [
    {
     "data": {
      "text/plain": [
       "(torch.Size([2, 4]), torch.Size([3, 4]))"
      ]
     },
     "execution_count": null,
     "metadata": {},
     "output_type": "execute_result"
    }
   ],
   "source": [
    "b1 = torch.Tensor([[0, 0, 10, 10], [10, 10, 20, 20]])\n",
    "b2 = torch.Tensor([[5, 5, 15, 15], [15, 15, 25, 25], [25, 25, 35, 35]])\n",
    "b1.shape, b2.shape"
   ]
  },
  {
   "cell_type": "code",
   "execution_count": null,
   "id": "dc03ff76",
   "metadata": {},
   "outputs": [
    {
     "name": "stdout",
     "output_type": "stream",
     "text": [
      "torch.Size([2, 3, 2]) torch.Size([2, 3, 2])\n"
     ]
    },
    {
     "data": {
      "text/plain": [
       "(tensor([[[ 5.,  5.],\n",
       "          [15., 15.],\n",
       "          [25., 25.]],\n",
       " \n",
       "         [[10., 10.],\n",
       "          [15., 15.],\n",
       "          [25., 25.]]]),\n",
       " tensor([[[10., 10.],\n",
       "          [10., 10.],\n",
       "          [10., 10.]],\n",
       " \n",
       "         [[15., 15.],\n",
       "          [20., 20.],\n",
       "          [20., 20.]]]))"
      ]
     },
     "execution_count": null,
     "metadata": {},
     "output_type": "execute_result"
    }
   ],
   "source": [
    "x1 = torch.max(b1[:, None, :2], b2[ :, :2])\n",
    "x2 = torch.min(b1[:, None, 2:], b2[ :, 2:])\n",
    "print(x1.shape, x2.shape)\n",
    "x1, x2"
   ]
  },
  {
   "cell_type": "code",
   "execution_count": null,
   "id": "ce8a9d1d",
   "metadata": {},
   "outputs": [
    {
     "data": {
      "text/plain": [
       "tensor([[[5., 5.],\n",
       "         [0., 0.],\n",
       "         [0., 0.]],\n",
       "\n",
       "        [[5., 5.],\n",
       "         [5., 5.],\n",
       "         [0., 0.]]])"
      ]
     },
     "execution_count": null,
     "metadata": {},
     "output_type": "execute_result"
    }
   ],
   "source": [
    "inter = torch.clamp(x2-x1, min=0)\n",
    "inter"
   ]
  },
  {
   "cell_type": "code",
   "execution_count": null,
   "id": "a4da7cc0",
   "metadata": {},
   "outputs": [
    {
     "data": {
      "text/plain": [
       "(tensor([[25.,  0.,  0.],\n",
       "         [25., 25.,  0.]]),\n",
       " torch.Size([2, 3]))"
      ]
     },
     "execution_count": null,
     "metadata": {},
     "output_type": "execute_result"
    }
   ],
   "source": [
    "inter_area = torch.prod(inter, dim=-1)\n",
    "inter_area, inter_area.shape"
   ]
  },
  {
   "cell_type": "code",
   "execution_count": null,
   "id": "ef2d6b42",
   "metadata": {},
   "outputs": [],
   "source": [
    "#| export \n",
    "def intersection_area(b1: torch.Tensor, b2: torch.Tensor, dim: int=2):\n",
    "    x1 = torch.max(b1[:, None, :dim], b2[:, :dim])\n",
    "    x2 = torch.min(b1[:, None, dim:], b2[:, dim:])\n",
    "    inter = torch.clamp(x2 - x1, min=0)\n",
    "    inter_area = torch.prod(inter, dim=-1)\n",
    "    return inter_area"
   ]
  },
  {
   "cell_type": "code",
   "execution_count": null,
   "id": "54b6b811",
   "metadata": {},
   "outputs": [
    {
     "name": "stdout",
     "output_type": "stream",
     "text": [
      "CPU times: user 772 µs, sys: 200 µs, total: 972 µs\n",
      "Wall time: 699 µs\n"
     ]
    },
    {
     "data": {
      "text/plain": [
       "tensor([[25.,  0.,  0.],\n",
       "        [25., 25.,  0.]])"
      ]
     },
     "execution_count": null,
     "metadata": {},
     "output_type": "execute_result"
    }
   ],
   "source": [
    "%time intersection_area(b1, b2)"
   ]
  },
  {
   "cell_type": "code",
   "execution_count": null,
   "id": "be6a7088",
   "metadata": {},
   "outputs": [
    {
     "data": {
      "text/plain": [
       "(tensor([100., 100., 100.]), tensor([100., 100.]))"
      ]
     },
     "execution_count": null,
     "metadata": {},
     "output_type": "execute_result"
    }
   ],
   "source": [
    "b1_area = torch.prod(b1[:, 2:]- b1[:, :2], dim=1)\n",
    "b1_area = torch.prod(b2[:, 2:]- b2[:, :2], dim=1)\n",
    "b1_area, b2_area"
   ]
  },
  {
   "cell_type": "markdown",
   "id": "f8b00854",
   "metadata": {},
   "source": [
    "> b1_area shape is [3, 1] , b2_area is [2] and 3 need [2, 3]"
   ]
  },
  {
   "cell_type": "code",
   "execution_count": null,
   "id": "baa210ab",
   "metadata": {},
   "outputs": [
    {
     "data": {
      "text/plain": [
       "tensor([[175., 200., 200.],\n",
       "        [175., 175., 200.]])"
      ]
     },
     "execution_count": null,
     "metadata": {},
     "output_type": "execute_result"
    }
   ],
   "source": [
    "union = b2_area[:,None] + b1_area - inter_area \n",
    "union"
   ]
  },
  {
   "cell_type": "code",
   "execution_count": null,
   "id": "879869ec",
   "metadata": {},
   "outputs": [
    {
     "data": {
      "text/plain": [
       "tensor([[0.1429, 0.0000, 0.0000],\n",
       "        [0.1429, 0.1429, 0.0000]])"
      ]
     },
     "execution_count": null,
     "metadata": {},
     "output_type": "execute_result"
    }
   ],
   "source": [
    "inter_area/union"
   ]
  },
  {
   "cell_type": "code",
   "execution_count": null,
   "id": "8100f03e",
   "metadata": {},
   "outputs": [],
   "source": [
    "#| export \n",
    "def bbox_iou(b1: torch.Tensor, b2: torch.Tensor):\n",
    "    \"\"\"calculate iou between b1 Nx(4/6) and b2 Mx(4/6)\n",
    "    \"\"\"\n",
    "    dim = bbox_dim(b1)\n",
    "    inter_area = intersection_area(b1, b2, dim)\n",
    "    b1_area, b2_area = bbox_area(b1, dim), bbox_area(b2, dim)\n",
    "    union = b1_area[:, None] + b2_area - inter_area\n",
    "    iou = inter_area / union\n",
    "    return iou.clamp(min=0, max=1)"
   ]
  },
  {
   "cell_type": "code",
   "execution_count": null,
   "id": "6e669510",
   "metadata": {},
   "outputs": [],
   "source": [
    "## Test 2d \n",
    "b1 = torch.Tensor([[0, 0, 10, 10], [10, 10, 20, 20]])\n",
    "b2 = torch.Tensor([[5, 5, 15, 15], [15, 15, 25, 25]])\n",
    "expected_output = torch.Tensor([[0.1429, 0.0], [0.1429, 0.1429]])\n",
    "output = calculate_iou(b1, b2)\n",
    "fc.test_close(expected_output, output, eps=1e-3)"
   ]
  },
  {
   "cell_type": "code",
   "execution_count": null,
   "id": "bc7f59cf",
   "metadata": {},
   "outputs": [
    {
     "name": "stdout",
     "output_type": "stream",
     "text": [
      "70.2 µs ± 27.6 µs per loop (mean ± std. dev. of 7 runs, 100 loops each)\n"
     ]
    }
   ],
   "source": [
    "%timeit -n 100 torchvision.ops.box_iou(b1, b2)"
   ]
  },
  {
   "cell_type": "code",
   "execution_count": null,
   "id": "e117720c",
   "metadata": {},
   "outputs": [
    {
     "name": "stdout",
     "output_type": "stream",
     "text": [
      "59 µs ± 31.8 µs per loop (mean ± std. dev. of 7 runs, 100 loops each)\n"
     ]
    }
   ],
   "source": [
    "%timeit  -n 100 bbox_iou(b1, b2)"
   ]
  },
  {
   "cell_type": "code",
   "execution_count": null,
   "id": "efb9d607",
   "metadata": {},
   "outputs": [
    {
     "data": {
      "text/plain": [
       "tensor([[0.0667, 0.0000],\n",
       "        [0.0667, 0.0667]])"
      ]
     },
     "execution_count": null,
     "metadata": {},
     "output_type": "execute_result"
    }
   ],
   "source": [
    "b1 = torch.Tensor([[0, 0, 0, 10, 10, 10], [10, 10, 10, 20, 20, 20]])\n",
    "b2 = torch.Tensor([[5, 5, 5, 15, 15, 15], [15, 15, 15, 25, 25, 25]])\n",
    "calculate_iou(b1, b2)"
   ]
  },
  {
   "cell_type": "markdown",
   "id": "c2eaf47c",
   "metadata": {},
   "source": [
    "## GIOU"
   ]
  },
  {
   "cell_type": "markdown",
   "id": "79d6dc5a",
   "metadata": {},
   "source": [
    "There is one problem with IoU\n",
    "\n",
    "> when two bboxes doesn't have overlap, iou is always zero irrespective of the distance between them. This makes loss discontinous when IoU is used. \n",
    "\n",
    "Generalized IoU AKA `GIoU` is defined as \n",
    "\n",
    "$$\n",
    "GIoU = IoU - \\frac{(C \\backslash A \\bigcup B)}{C}\n",
    "$$\n",
    "\n",
    "> where C is the closest convex shape which contain both A and B (as shown in the figure below). Here, since A and B are rectangle we will choose C shape also to be rectangle.\n",
    "\n",
    "> The penality term is defined as the ratio between the area occupied by C excluding A and B and divide by the total area occupied by C"
   ]
  },
  {
   "cell_type": "code",
   "execution_count": null,
   "id": "ce9728e2",
   "metadata": {},
   "outputs": [
    {
     "data": {
      "text/plain": [
       "tensor([[ 5.,  5., 35., 35.],\n",
       "        [40., 40., 80., 80.],\n",
       "        [24., 24., 28., 28.],\n",
       "        [15., 15., 25., 25.],\n",
       "        [10., 10., 30., 30.]])"
      ]
     },
     "execution_count": null,
     "metadata": {},
     "output_type": "execute_result"
    }
   ],
   "source": [
    "xy = torch.Tensor([[10, 10, 30, 30], \n",
    "                   [15, 15, 25, 25], \n",
    "                   [24, 24, 28, 28], \n",
    "                   [40, 40, 80, 80],\n",
    "                   [5, 5, 35, 35]])\n",
    "yx = xy.flipud()\n",
    "yx"
   ]
  },
  {
   "cell_type": "markdown",
   "id": "9e3f09c7",
   "metadata": {},
   "source": [
    "> Closest convex shape"
   ]
  },
  {
   "cell_type": "code",
   "execution_count": null,
   "id": "e14d47a5",
   "metadata": {},
   "outputs": [
    {
     "data": {
      "text/plain": [
       "(tensor([[ 5.,  5.],\n",
       "         [15., 15.],\n",
       "         [24., 24.],\n",
       "         [15., 15.],\n",
       "         [ 5.,  5.]]),\n",
       " tensor([[35., 35.],\n",
       "         [80., 80.],\n",
       "         [28., 28.],\n",
       "         [80., 80.],\n",
       "         [35., 35.]]))"
      ]
     },
     "execution_count": null,
     "metadata": {},
     "output_type": "execute_result"
    }
   ],
   "source": [
    "xc = torch.min(xy[:, :2], yx[:, :2])\n",
    "yc = torch.max(xy[:, 2:], yx[:, 2:])\n",
    "xc, yc"
   ]
  },
  {
   "cell_type": "code",
   "execution_count": null,
   "id": "831d3dfe",
   "metadata": {},
   "outputs": [
    {
     "data": {
      "text/plain": [
       "tensor([ 900., 4225.,   16., 4225.,  900.])"
      ]
     },
     "execution_count": null,
     "metadata": {},
     "output_type": "execute_result"
    }
   ],
   "source": [
    "C = torch.prod(torch.clamp(yc-xc, min=0), dim=-1)\n",
    "C"
   ]
  },
  {
   "cell_type": "code",
   "execution_count": null,
   "id": "f0dba0a6",
   "metadata": {},
   "outputs": [],
   "source": [
    "#| export \n",
    "def min_enclosing_bbox_area_pair(b1: torch.Tensor, b2: torch.Tensor, dim: int=2):\n",
    "    xc = torch.min(b1[:, :dim], b2[:, :dim])\n",
    "    yc = torch.max(b1[:, dim:], b2[:, dim:])\n",
    "    area = torch.prod(torch.clamp(yc-xc, min=0), dim=-1)\n",
    "    return area "
   ]
  },
  {
   "cell_type": "code",
   "execution_count": null,
   "id": "22264619",
   "metadata": {},
   "outputs": [
    {
     "name": "stdout",
     "output_type": "stream",
     "text": [
      "CPU times: user 1.07 ms, sys: 816 µs, total: 1.89 ms\n",
      "Wall time: 1.71 ms\n"
     ]
    },
    {
     "data": {
      "text/plain": [
       "tensor([ 900., 4225.,   16., 4225.,  900.])"
      ]
     },
     "execution_count": null,
     "metadata": {},
     "output_type": "execute_result"
    }
   ],
   "source": [
    "%time C = min_enclosing_bbox_area_pair(xy, yx)\n",
    "C"
   ]
  },
  {
   "cell_type": "code",
   "execution_count": null,
   "id": "53d43757",
   "metadata": {},
   "outputs": [
    {
     "data": {
      "text/plain": [
       "tensor([400.,   0.,  16.,   0., 400.])"
      ]
     },
     "execution_count": null,
     "metadata": {},
     "output_type": "execute_result"
    }
   ],
   "source": [
    "inter_iou = intersection_area_pair(xy, yx)\n",
    "inter_iou"
   ]
  },
  {
   "cell_type": "code",
   "execution_count": null,
   "id": "5b74e40b",
   "metadata": {},
   "outputs": [
    {
     "data": {
      "text/plain": [
       "tensor([ 900., 1700.,   16., 1700.,  900.])"
      ]
     },
     "execution_count": null,
     "metadata": {},
     "output_type": "execute_result"
    }
   ],
   "source": [
    "union = (bbox_area(xy)+bbox_area(yx)-inter_iou)\n",
    "union"
   ]
  },
  {
   "cell_type": "code",
   "execution_count": null,
   "id": "ad85952b",
   "metadata": {},
   "outputs": [
    {
     "data": {
      "text/plain": [
       "tensor([0.0000, 0.5976, 0.0000, 0.5976, 0.0000])"
      ]
     },
     "execution_count": null,
     "metadata": {},
     "output_type": "execute_result"
    }
   ],
   "source": [
    "penalty = (C - union)/C\n",
    "penalty"
   ]
  },
  {
   "cell_type": "code",
   "execution_count": null,
   "id": "cf1b7e68",
   "metadata": {},
   "outputs": [
    {
     "data": {
      "text/plain": [
       "tensor([ 0.4444, -0.5976,  1.0000, -0.5976,  0.4444])"
      ]
     },
     "execution_count": null,
     "metadata": {},
     "output_type": "execute_result"
    }
   ],
   "source": [
    "iou - penalty"
   ]
  },
  {
   "cell_type": "code",
   "execution_count": null,
   "id": "1679008a",
   "metadata": {},
   "outputs": [],
   "source": [
    "#| export\n",
    "def bbox_pair_giou(b1: torch.Tensor, b2: torch.Tensor):\n",
    "    \"\"\"where b1 and b2 are of the same shape [N, 4/6]\"\"\"\n",
    "    dim = bbox_dim(b1)\n",
    "    C = min_enclosing_bbox_area_pair(b1, b2, dim)\n",
    "    inter_iou = intersection_area_pair(b1, b2, dim)\n",
    "    b1a, b2a = bbox_area(b1, dim), bbox_area(b2, dim)\n",
    "    union = (b1a+b2a-inter_iou)\n",
    "    penalty = (C-union)/C\n",
    "    iou = inter_iou/union\n",
    "    giou = iou - penalty\n",
    "    return giou"
   ]
  },
  {
   "cell_type": "code",
   "execution_count": null,
   "id": "58c07bc3",
   "metadata": {},
   "outputs": [
    {
     "name": "stdout",
     "output_type": "stream",
     "text": [
      "CPU times: user 1.04 ms, sys: 465 µs, total: 1.5 ms\n",
      "Wall time: 1.16 ms\n"
     ]
    },
    {
     "data": {
      "text/plain": [
       "tensor([ 0.4444, -0.5976,  1.0000, -0.5976,  0.4444])"
      ]
     },
     "execution_count": null,
     "metadata": {},
     "output_type": "execute_result"
    }
   ],
   "source": [
    "%time bbox_pair_giou(xy, yx)"
   ]
  },
  {
   "cell_type": "code",
   "execution_count": null,
   "id": "3aa28a32",
   "metadata": {},
   "outputs": [],
   "source": [
    "#| export \n",
    "def min_enclosing_bbox_area(b1: torch.Tensor, b2: torch.Tensor, dim: int=2):\n",
    "    xc = torch.min(b1[:, None, :dim], b2[:, :dim])\n",
    "    yc = torch.max(b1[:, None, dim:], b2[:, dim:])\n",
    "    area = torch.prod(torch.clamp(yc-xc, min=0), dim=-1)\n",
    "    return area "
   ]
  },
  {
   "cell_type": "code",
   "execution_count": null,
   "id": "8a481cf7",
   "metadata": {},
   "outputs": [
    {
     "name": "stdout",
     "output_type": "stream",
     "text": [
      "CPU times: user 866 µs, sys: 316 µs, total: 1.18 ms\n",
      "Wall time: 969 µs\n"
     ]
    },
    {
     "data": {
      "text/plain": [
       "tensor([[ 900., 4900.,  400.,  400.,  400.],\n",
       "        [ 900., 4225.,  169.,  100.,  400.],\n",
       "        [ 900., 3136.,   16.,  169.,  400.],\n",
       "        [5625., 1600., 3136., 4225., 4900.],\n",
       "        [ 900., 5625.,  900.,  900.,  900.]])"
      ]
     },
     "execution_count": null,
     "metadata": {},
     "output_type": "execute_result"
    }
   ],
   "source": [
    "%time C = min_enclosing_bbox_area(xy, yx)\n",
    "C"
   ]
  },
  {
   "cell_type": "code",
   "execution_count": null,
   "id": "3929f232",
   "metadata": {},
   "outputs": [],
   "source": [
    "#| export \n",
    "def bbox_giou(b1: torch.Tensor, b2: torch.Tensor):\n",
    "    \"\"\"where b1 and b2 are of the same shape [N, 4/6]\"\"\"\n",
    "    dim = bbox_dim(b1)\n",
    "    C = min_enclosing_bbox_area(b1, b2, dim)\n",
    "    inter_iou = intersection_area(b1, b2, dim)\n",
    "    b1a, b2a = bbox_area(b1, dim), bbox_area(b2, dim)\n",
    "    union = (b1a[:, None]+b2a-inter_iou)\n",
    "    penalty = (C-union)/C\n",
    "    iou = inter_iou/union\n",
    "    giou = iou - penalty\n",
    "    return giou"
   ]
  },
  {
   "cell_type": "code",
   "execution_count": null,
   "id": "6b578e8f",
   "metadata": {},
   "outputs": [
    {
     "data": {
      "text/plain": [
       "tensor([[ 0.4444, -0.5918,  0.0400,  0.2500,  1.0000],\n",
       "        [ 0.1111, -0.5976, -0.3108,  1.0000,  0.2500],\n",
       "        [ 0.0178, -0.4847,  1.0000, -0.3108,  0.0400],\n",
       "        [-0.5556,  1.0000, -0.4847, -0.5976, -0.5918],\n",
       "        [ 1.0000, -0.5556,  0.0178,  0.1111,  0.4444]])"
      ]
     },
     "execution_count": null,
     "metadata": {},
     "output_type": "execute_result"
    }
   ],
   "source": [
    "giou = bbox_giou(xy, yx)\n",
    "giou"
   ]
  },
  {
   "cell_type": "code",
   "execution_count": null,
   "id": "cf1a2255",
   "metadata": {},
   "outputs": [
    {
     "data": {
      "text/plain": [
       "tensor([[ 0.4444, -0.5918,  0.0400,  0.2500,  1.0000],\n",
       "        [ 0.1111, -0.5976, -0.3108,  1.0000,  0.2500],\n",
       "        [ 0.0178, -0.4847,  1.0000, -0.3108,  0.0400],\n",
       "        [-0.5556,  1.0000, -0.4847, -0.5976, -0.5918],\n",
       "        [ 1.0000, -0.5556,  0.0178,  0.1111,  0.4444]])"
      ]
     },
     "execution_count": null,
     "metadata": {},
     "output_type": "execute_result"
    }
   ],
   "source": [
    "torchvision.ops.generalized_box_iou(xy, yx)"
   ]
  },
  {
   "cell_type": "code",
   "execution_count": null,
   "id": "5172a630",
   "metadata": {},
   "outputs": [],
   "source": [
    "fc.test_close(bbox_giou(xy, yx), torchvision.ops.generalized_box_iou(xy, yx), eps=1e-3)\n",
    "fc.test_close(bbox_giou(xy, xy), torchvision.ops.generalized_box_iou(xy, xy), eps=1e-3)"
   ]
  },
  {
   "cell_type": "code",
   "execution_count": null,
   "id": "960b6165",
   "metadata": {},
   "outputs": [
    {
     "name": "stdout",
     "output_type": "stream",
     "text": [
      "147 µs ± 61.9 µs per loop (mean ± std. dev. of 7 runs, 10 loops each)\n"
     ]
    }
   ],
   "source": [
    "%timeit -n 10 bbox_giou(xy, yx)"
   ]
  },
  {
   "cell_type": "code",
   "execution_count": null,
   "id": "21a9c37a",
   "metadata": {},
   "outputs": [
    {
     "name": "stdout",
     "output_type": "stream",
     "text": [
      "192 µs ± 66.9 µs per loop (mean ± std. dev. of 7 runs, 10 loops each)\n"
     ]
    }
   ],
   "source": [
    "%timeit -n 10 torchvision.ops.generalized_box_iou(xy, yx)"
   ]
  },
  {
   "cell_type": "markdown",
   "id": "9523ab78",
   "metadata": {},
   "source": [
    "## DIOU"
   ]
  },
  {
   "cell_type": "markdown",
   "id": "582454a6",
   "metadata": {},
   "source": [
    "## CIOU"
   ]
  },
  {
   "cell_type": "code",
   "execution_count": null,
   "id": "23a08191",
   "metadata": {},
   "outputs": [],
   "source": [
    "#| hide\n",
    "import nbdev; nbdev.nbdev_export()"
   ]
  }
 ],
 "metadata": {
  "kernelspec": {
   "display_name": "Python (vision)",
   "language": "python",
   "name": "vision"
  }
 },
 "nbformat": 4,
 "nbformat_minor": 5
}
